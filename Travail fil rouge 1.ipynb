{
 "cells": [
  {
   "cell_type": "code",
   "execution_count": 4,
   "id": "83bd7807-a392-4d0e-9af2-f76a7c4c9a6c",
   "metadata": {},
   "outputs": [
    {
     "name": "stdout",
     "output_type": "stream",
     "text": [
      "248064\n",
      "248064\n"
     ]
    }
   ],
   "source": [
    "import numpy as np \n",
    "liste = liste = [1800, 1500, 2200, 3000, 2172, 5000, 1400, 1200, 1100, 1300]"
   ]
  },
  {
   "cell_type": "code",
   "execution_count": 9,
   "id": "3a0bdc43-1995-4060-ba86-ba1bb3754a90",
   "metadata": {},
   "outputs": [
    {
     "name": "stdout",
     "output_type": "stream",
     "text": [
      "248064\n"
     ]
    }
   ],
   "source": [
    "revenus = np.array(liste)\n",
    "hauts_revenus = revenus[revenus >= 3000]\n",
    "somme = revenus.sum() * 12 \n",
    "print(somme)"
   ]
  },
  {
   "cell_type": "code",
   "execution_count": 11,
   "id": "296fdebd-edbb-4cb7-ad08-537b6ab97171",
   "metadata": {},
   "outputs": [
    {
     "name": "stdout",
     "output_type": "stream",
     "text": [
      "2067.2\n"
     ]
    }
   ],
   "source": [
    "moyenne = revenus.mean()\n",
    "print(moyenne)"
   ]
  },
  {
   "cell_type": "code",
   "execution_count": 14,
   "id": "6bbe90b2-2c23-4736-84e9-a95f3676ab8a",
   "metadata": {},
   "outputs": [
    {
     "name": "stdout",
     "output_type": "stream",
     "text": [
      "[1800 1500 2200 3000 2172 5000 1400 1200 1100 1300]\n",
      "[1400]\n",
      "[1800 1500 2200 3000 2172 5000 1600 1200 1100 1300]\n"
     ]
    }
   ],
   "source": [
    "revenu_a_modif = revenus\n",
    "print(revenu_a_modif)\n",
    "print(revenu_a_modif[revenu_a_modif == 1400])\n",
    "revenu_a_modif[revenu_a_modif == 1400] = 1600\n",
    "print(revenu_a_modif)"
   ]
  }
 ],
 "metadata": {
  "kernelspec": {
   "display_name": "Python 3 (ipykernel)",
   "language": "python",
   "name": "python3"
  },
  "language_info": {
   "codemirror_mode": {
    "name": "ipython",
    "version": 3
   },
   "file_extension": ".py",
   "mimetype": "text/x-python",
   "name": "python",
   "nbconvert_exporter": "python",
   "pygments_lexer": "ipython3",
   "version": "3.10.11"
  }
 },
 "nbformat": 4,
 "nbformat_minor": 5
}
