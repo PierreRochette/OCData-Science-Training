{
 "cells": [
  {
   "cell_type": "code",
   "execution_count": 1,
   "id": "f0f94c11-ec22-481b-8afa-d4e8e38e5b45",
   "metadata": {},
   "outputs": [],
   "source": [
    "import numpy as np"
   ]
  },
  {
   "cell_type": "code",
   "execution_count": 3,
   "id": "6ccb018f-dac8-43d2-90c6-33b467dbfa34",
   "metadata": {},
   "outputs": [
    {
     "data": {
      "text/plain": [
       "array([1, 2, 3, 4, 5, 6, 7])"
      ]
     },
     "execution_count": 3,
     "metadata": {},
     "output_type": "execute_result"
    }
   ],
   "source": [
    "np.arange(1,8)"
   ]
  },
  {
   "cell_type": "code",
   "execution_count": 6,
   "id": "2a92bdbb-dcae-4b2e-85cc-5b5a9d66fa89",
   "metadata": {},
   "outputs": [
    {
     "name": "stdout",
     "output_type": "stream",
     "text": [
      "[9.  9.5]\n"
     ]
    }
   ],
   "source": [
    "a = np.linspace(5,10,11)\n",
    "print(a[-3:-1])"
   ]
  },
  {
   "cell_type": "code",
   "execution_count": 9,
   "id": "65adb58e-d3d2-48a7-bcfd-e63a7b3116f3",
   "metadata": {},
   "outputs": [
    {
     "name": "stdout",
     "output_type": "stream",
     "text": [
      "[ 5.   5.5  6.   6.5  7.   7.5  8.   8.5  9.   9.5 10. ]\n",
      "[ 6.  8. 10.]\n"
     ]
    }
   ],
   "source": [
    "print(a)\n",
    "print(a[a % 2 == 0])"
   ]
  },
  {
   "cell_type": "code",
   "execution_count": 13,
   "id": "e9fc9eac-6d15-4827-b37f-4c993426245b",
   "metadata": {},
   "outputs": [
    {
     "name": "stdout",
     "output_type": "stream",
     "text": [
      "[[[ 1  2]\n",
      "  [ 4  5]]\n",
      "\n",
      " [[ 6  7]\n",
      "  [ 8  9]]\n",
      "\n",
      " [[10 11]\n",
      "  [12 13]]]\n"
     ]
    }
   ],
   "source": [
    "b = np.array([[[1,2],[4,5]], \n",
    "              [[6,7],[8,9]], \n",
    "              [[10,11],[12,13]]])\n",
    "print(b)"
   ]
  },
  {
   "cell_type": "code",
   "execution_count": 16,
   "id": "74e20d76-2f29-43b1-bc7c-ae0e763dd1c2",
   "metadata": {},
   "outputs": [
    {
     "data": {
      "text/plain": [
       "array([[[ 1,  2,  4]],\n",
       "\n",
       "       [[ 5,  6,  7]],\n",
       "\n",
       "       [[ 8,  9, 10]],\n",
       "\n",
       "       [[11, 12, 13]]])"
      ]
     },
     "execution_count": 16,
     "metadata": {},
     "output_type": "execute_result"
    }
   ],
   "source": [
    "b.reshape([4,1,3])"
   ]
  },
  {
   "cell_type": "code",
   "execution_count": 18,
   "id": "3882f833-a200-458a-8a6b-0b92f587d5bc",
   "metadata": {},
   "outputs": [
    {
     "name": "stdout",
     "output_type": "stream",
     "text": [
      "[[10 11]\n",
      " [12 13]]\n"
     ]
    }
   ],
   "source": [
    "print(b[2,:,:])"
   ]
  },
  {
   "cell_type": "code",
   "execution_count": 20,
   "id": "9455d981-2ea3-4fbb-a6fb-0833688bfed9",
   "metadata": {},
   "outputs": [
    {
     "name": "stdout",
     "output_type": "stream",
     "text": [
      "[11 12 13]\n"
     ]
    }
   ],
   "source": [
    "print(b[b>10])"
   ]
  },
  {
   "cell_type": "code",
   "execution_count": 21,
   "id": "526da5b4-3192-4431-b31e-47a0f87a6d11",
   "metadata": {},
   "outputs": [
    {
     "ename": "IndexError",
     "evalue": "index 2 is out of bounds for axis 2 with size 2",
     "output_type": "error",
     "traceback": [
      "\u001b[1;31m---------------------------------------------------------------------------\u001b[0m",
      "\u001b[1;31mIndexError\u001b[0m                                Traceback (most recent call last)",
      "Cell \u001b[1;32mIn[21], line 1\u001b[0m\n\u001b[1;32m----> 1\u001b[0m \u001b[38;5;28mprint\u001b[39m(\u001b[43mb\u001b[49m\u001b[43m[\u001b[49m\u001b[38;5;241;43m2\u001b[39;49m\u001b[43m,\u001b[49m\u001b[43m:\u001b[49m\u001b[43m,\u001b[49m\u001b[38;5;241;43m2\u001b[39;49m\u001b[43m]\u001b[49m)\n",
      "\u001b[1;31mIndexError\u001b[0m: index 2 is out of bounds for axis 2 with size 2"
     ]
    }
   ],
   "source": [
    "print(b[2,:,2])"
   ]
  }
 ],
 "metadata": {
  "kernelspec": {
   "display_name": "Python 3 (ipykernel)",
   "language": "python",
   "name": "python3"
  },
  "language_info": {
   "codemirror_mode": {
    "name": "ipython",
    "version": 3
   },
   "file_extension": ".py",
   "mimetype": "text/x-python",
   "name": "python",
   "nbconvert_exporter": "python",
   "pygments_lexer": "ipython3",
   "version": "3.12.0"
  }
 },
 "nbformat": 4,
 "nbformat_minor": 5
}
