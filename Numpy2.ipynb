{
 "cells": [
  {
   "cell_type": "code",
   "execution_count": 2,
   "id": "c87a23d8-3287-48d1-a4c5-6664de292f79",
   "metadata": {},
   "outputs": [
    {
     "name": "stdout",
     "output_type": "stream",
     "text": [
      "[[1 2]\n",
      " [3 4]\n",
      " [5 6]]\n",
      "[[1 2 3]\n",
      " [4 5 6]]\n"
     ]
    }
   ],
   "source": [
    "import numpy as np\n",
    "\n",
    "tab1 = np.array([[1,2], [3,4], [5,6]])\n",
    "print(tab1)\n",
    "# Crée un tableau de 3 lignes et 2 colonnes\n",
    "tab2 = np.array([[1,2,3], [4,5,6]])\n",
    "print(tab2)\n",
    "# Crée un tableau de 2 lignes et 3 colonnes"
   ]
  },
  {
   "cell_type": "code",
   "execution_count": 4,
   "id": "0fcc6a66-afbc-46a7-8949-06fee3127bdf",
   "metadata": {},
   "outputs": [
    {
     "name": "stdout",
     "output_type": "stream",
     "text": [
      "[[1. 1. 1. 1. 1.]\n",
      " [1. 1. 1. 1. 1.]\n",
      " [1. 1. 1. 1. 1.]]\n"
     ]
    }
   ],
   "source": [
    "test = np.ones((3,5))\n",
    "print(test)\n",
    "# Crée un tableau de 3x5 rempli de 1"
   ]
  },
  {
   "cell_type": "code",
   "execution_count": 6,
   "id": "e8a9f2d8-f3a2-4021-9100-96763230fe93",
   "metadata": {},
   "outputs": [
    {
     "name": "stdout",
     "output_type": "stream",
     "text": [
      "[[0.10608824 0.27874296 0.69721918]\n",
      " [0.48838345 0.46783534 0.40901168]\n",
      " [0.0098777  0.43006299 0.14948594]\n",
      " [0.6616788  0.02865061 0.44731148]\n",
      " [0.17893711 0.53683043 0.37761192]\n",
      " [0.36859558 0.81018939 0.4678211 ]]\n"
     ]
    }
   ],
   "source": [
    "test2 = np.random.random((6,3))\n",
    "print(test2)\n",
    "# Créé un tableau de 6 x 3 avec des valeurs aléatoires"
   ]
  },
  {
   "cell_type": "code",
   "execution_count": 8,
   "id": "6b3aa72f-6523-4359-8fb5-e9e28cb6da1a",
   "metadata": {},
   "outputs": [
    {
     "name": "stdout",
     "output_type": "stream",
     "text": [
      "[[6 8 3]\n",
      " [2 4 9]\n",
      " [3 3 6]]\n"
     ]
    }
   ],
   "source": [
    "test3 = np.random.randint(1,10, size=(3,3))\n",
    "print(test3)\n",
    "# Crée un tableau de 3x3 avec des valeurs aléatoires entières comprises entre 1 et 10"
   ]
  },
  {
   "cell_type": "code",
   "execution_count": 11,
   "id": "ed2cdbde-2f76-4da0-8e17-eed6dcc6197e",
   "metadata": {},
   "outputs": [
    {
     "name": "stdout",
     "output_type": "stream",
     "text": [
      "[[ 6 12]\n",
      " [18 24]]\n"
     ]
    }
   ],
   "source": [
    "# Les arrays Numpy peuvent être utilisés comme des matrices \n",
    "A = np.array([[1,2], [3,4]])\n",
    "B = np.array([[5,10], [15,20]])\n",
    "test = A + B \n",
    "print(test)"
   ]
  },
  {
   "cell_type": "code",
   "execution_count": 13,
   "id": "b9321b7d-1180-41aa-92a1-7a02c4a4a10f",
   "metadata": {},
   "outputs": [
    {
     "name": "stdout",
     "output_type": "stream",
     "text": [
      "[[ 5 20]\n",
      " [45 80]]\n"
     ]
    }
   ],
   "source": [
    "test2 = A * B\n",
    "print(test2)"
   ]
  }
 ],
 "metadata": {
  "kernelspec": {
   "display_name": "Python 3 (ipykernel)",
   "language": "python",
   "name": "python3"
  },
  "language_info": {
   "codemirror_mode": {
    "name": "ipython",
    "version": 3
   },
   "file_extension": ".py",
   "mimetype": "text/x-python",
   "name": "python",
   "nbconvert_exporter": "python",
   "pygments_lexer": "ipython3",
   "version": "3.11.6"
  }
 },
 "nbformat": 4,
 "nbformat_minor": 5
}
