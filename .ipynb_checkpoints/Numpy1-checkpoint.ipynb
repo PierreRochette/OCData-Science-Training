{
 "cells": [
  {
   "cell_type": "code",
   "execution_count": 10,
   "id": "1157ce46-63c9-4478-abe9-74287cd4133e",
   "metadata": {},
   "outputs": [],
   "source": [
    "revenus = [1800, 1500, 2200, 3000, 2172]"
   ]
  },
  {
   "cell_type": "code",
   "execution_count": 9,
   "id": "64fa2444-81f2-4cb3-b731-06baeee457d6",
   "metadata": {},
   "outputs": [
    {
     "data": {
      "text/plain": [
       "2134.4"
      ]
     },
     "execution_count": 9,
     "metadata": {},
     "output_type": "execute_result"
    }
   ],
   "source": [
    "def moyenne(list) :\n",
    "    return sum(list)/len(list)\n",
    "\n",
    "moyenne(revenus)"
   ]
  },
  {
   "cell_type": "code",
   "execution_count": 14,
   "id": "80ab8fa8-509c-4850-b642-0fb1e9c4c2dd",
   "metadata": {},
   "outputs": [
    {
     "data": {
      "text/plain": [
       "2134.4"
      ]
     },
     "execution_count": 14,
     "metadata": {},
     "output_type": "execute_result"
    }
   ],
   "source": [
    "import numpy as np \n",
    "np.mean(revenus)\n",
    "# Permet de faire le même calcul que la fonction moyenne. "
   ]
  },
  {
   "cell_type": "code",
   "execution_count": 16,
   "id": "e3c50255-d6a6-418e-8202-01516fcc7e14",
   "metadata": {},
   "outputs": [
    {
     "name": "stdout",
     "output_type": "stream",
     "text": [
      "La valeur absolue :  [2 1 1 2]\n",
      "Exponentielle :  [0.13533528 0.36787944 2.71828183 7.3890561 ]\n",
      "Logarithme :  [0.69314718 0.         0.         0.69314718]\n"
     ]
    }
   ],
   "source": [
    "import numpy as np\n",
    "x = [-2, -1, 1, 2]\n",
    "print(\"La valeur absolue : \", np.abs(x)) \n",
    "print(\"Exponentielle : \", np.exp(x))\n",
    "print(\"Logarithme : \", np.log(np.abs(x)))"
   ]
  },
  {
   "cell_type": "code",
   "execution_count": 17,
   "id": "5a7c3030-2c11-473c-babe-95515bad3172",
   "metadata": {},
   "outputs": [
    {
     "name": "stdout",
     "output_type": "stream",
     "text": [
      "[1800 1500 2200 3000 2172]\n"
     ]
    }
   ],
   "source": [
    "revenus_array = np.array(revenus)\n",
    "print(revenus_array)"
   ]
  },
  {
   "cell_type": "code",
   "execution_count": 23,
   "id": "3cb69bf3-13b2-4365-8ebf-b81376f75925",
   "metadata": {},
   "outputs": [
    {
     "name": "stdout",
     "output_type": "stream",
     "text": [
      "test_zero :  [0. 0. 0. 0.]\n",
      "float64\n",
      "test_one :  [1. 1. 1. 1.]\n",
      "float64\n",
      "test nparange :  [1 2 3 4]\n",
      "int64\n",
      "test linspace :  [1. 2. 3. 4. 5.]\n",
      "float64\n"
     ]
    }
   ],
   "source": [
    "test_zero = np.zeros(4)\n",
    "print(\"test_zero : \", test_zero)\n",
    "print(test_zero.dtype)\n",
    "# numpy.dtype permet d'indiquer le type de valeurs présentes dans le tableau (array) Numpy. \n",
    "# Dtype retourne deux choses : - le type (int, float, ...) & - la précision (ici 64) \n",
    "test_one = np.ones(4)\n",
    "print(\"test_one : \", test_one)\n",
    "print(test_one.dtype)\n",
    "test_nparange = np.arange(1, 5, 1)\n",
    "print(\"test nparange : \", test_nparange)\n",
    "print(test_nparange.dtype)\n",
    "test_linspace = np.linspace(1,5,5)\n",
    "print(\"test linspace : \", test_linspace)\n",
    "print(test_linspace.dtype)"
   ]
  },
  {
   "cell_type": "code",
   "execution_count": 34,
   "id": "b5b2f96e-cc0a-45f9-8d4c-020273285a6f",
   "metadata": {},
   "outputs": [
    {
     "name": "stdout",
     "output_type": "stream",
     "text": [
      "1800\n",
      "1500\n",
      "[1800 1500 2200]\n",
      "[1800 1500 2200 3000 2172]\n",
      "[1800 1500]\n",
      "[1800 1500 2200]\n",
      "[2200 3000 2172]\n",
      "[1800 2200 2172]\n",
      "[2172 3000 2200 1500 1800]\n"
     ]
    }
   ],
   "source": [
    "# Séléctionner des éléments au sein d'un array \n",
    "print(revenus_array[0])\n",
    "print(revenus_array[1])\n",
    "# Retourne les entrées séléctionnées\n",
    "print(revenus_array[0:3:1])\n",
    "print(revenus_array[0:5:1])\n",
    "# liste[indice de départ : indice de fin : step ]\n",
    "print(revenus_array[0:2])\n",
    "# Dans cette notation, l'indice de fin est exclu, on a que les éléments d'indice 0 et 1. \n",
    "print(revenus_array[:3])\n",
    "# On affiche les trois premiers éléments, l'indice de début peut être exclu. \n",
    "print(revenus_array[2:])\n",
    "# On affiche les éléments à partir de l'indice 2 inclus\n",
    "print(revenus_array[::2])\n",
    "# On affiche un  élément sur 2\n",
    "print(revenus_array[::-1])\n",
    "# On peut faire ça pour inverser l'ordre d'un tableau "
   ]
  },
  {
   "cell_type": "code",
   "execution_count": 37,
   "id": "8f466051-03bc-4e90-9ffc-b01ecc47c893",
   "metadata": {},
   "outputs": [
    {
     "name": "stdout",
     "output_type": "stream",
     "text": [
      "[2200 3000 2172]\n",
      "[2200 2172]\n"
     ]
    }
   ],
   "source": [
    "# On peut aller plus loin dans la séléction\n",
    "print(revenus_array[revenus_array > 2000])\n",
    "# On peut compléxifier la séléction \n",
    "print(revenus_array[(revenus_array > 2000) & (revenus_array < 3000)])"
   ]
  },
  {
   "cell_type": "code",
   "execution_count": 57,
   "id": "38e273fd-12ae-431e-aeb3-ec02fab55c50",
   "metadata": {},
   "outputs": [
    {
     "name": "stdout",
     "output_type": "stream",
     "text": [
      "int64\n",
      "(5,)\n",
      "2134.4\n",
      "3000\n",
      "1500\n",
      "0\n",
      "4\n",
      "[1500 1800 2172 2200 3000]\n",
      "10672\n"
     ]
    }
   ],
   "source": [
    "# AUTRES METHODES d'array\n",
    "print(revenus_array.dtype)\n",
    "# Retourne le type de valeurs contenues dans le tableau\n",
    "print(revenus_array.shape)\n",
    "# Explique que l'on a un array contenant 5 éléments, le point après la virgule sera défini ultérieurement\n",
    "print(revenus_array.mean())\n",
    "# Retourne la moyenne des valeurs du tableau \n",
    "print(revenus_array.max())\n",
    "print(revenus_array.min())\n",
    "# Retourne la valeur max ou mini des valeurs du tableau \n",
    "print(revenus_array.argmin())\n",
    "print(revenus_array.argmax())\n",
    "# Retourne l'indice de la valeur maximale ou minimale du tableau \n",
    "revenus_array.sort()\n",
    "print(revenus_array)\n",
    "# Trier le tableau \n",
    "# Ici c'est broken parce que je l'ai exécuté dans un print, mais ça marche \n",
    "print(revenus_array.sum())\n",
    "# Calculer la somme des valeurs du tableau \n",
    "\n"
   ]
  },
  {
   "cell_type": "code",
   "execution_count": null,
   "id": "467a3e6f-c920-42ed-b077-3dff9549ebde",
   "metadata": {},
   "outputs": [],
   "source": []
  }
 ],
 "metadata": {
  "kernelspec": {
   "display_name": "Python 3 (ipykernel)",
   "language": "python",
   "name": "python3"
  },
  "language_info": {
   "codemirror_mode": {
    "name": "ipython",
    "version": 3
   },
   "file_extension": ".py",
   "mimetype": "text/x-python",
   "name": "python",
   "nbconvert_exporter": "python",
   "pygments_lexer": "ipython3",
   "version": "3.10.11"
  }
 },
 "nbformat": 4,
 "nbformat_minor": 5
}
